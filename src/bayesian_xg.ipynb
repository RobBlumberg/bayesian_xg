{
 "cells": [
  {
   "cell_type": "code",
   "execution_count": 391,
   "metadata": {},
   "outputs": [],
   "source": [
    "from sbdataextraction import sbdataextraction as sb\n",
    "import pandas as pd\n",
    "import numpy as np\n",
    "import matplotlib.pyplot as plt\n",
    "from scipy.stats import uniform\n",
    "\n",
    "from sklearn.base import BaseEstimator, TransformerMixin\n",
    "from sklearn.pipeline import Pipeline\n",
    "from sklearn.compose import ColumnTransformer\n",
    "from sklearn.preprocessing import StandardScaler, PolynomialFeatures, OneHotEncoder\n",
    "from sklearn.linear_model import LogisticRegression\n",
    "from sklearn.model_selection import GridSearchCV, RandomizedSearchCV, train_test_split, KFold\n",
    "from sklearn.metrics import log_loss\n",
    "\n",
    "import pyjags as pjs"
   ]
  },
  {
   "cell_type": "code",
   "execution_count": 4,
   "metadata": {},
   "outputs": [
    {
     "name": "stdout",
     "output_type": "stream",
     "text": [
      "Matches will be fetched for 15 seasons.\n",
      "\n",
      "Fetching matches for season_id 4 of competition_id 11...\n",
      "[=================================] 100%\n",
      "Fetching matches for season_id 1 of competition_id 11...\n",
      "[===================================] 100%\n",
      "Fetching matches for season_id 2 of competition_id 11...\n",
      "[=================================] 100%\n",
      "Fetching matches for season_id 27 of competition_id 11...\n",
      "[================================] 100%\n",
      "Fetching matches for season_id 26 of competition_id 11...\n",
      "[=====================================] 100%\n",
      "Fetching matches for season_id 25 of competition_id 11...\n",
      "[==============================] 100%\n",
      "Fetching matches for season_id 24 of competition_id 11...\n",
      "[===============================] 100%\n",
      "Fetching matches for season_id 23 of competition_id 11...\n",
      "[====================================] 100%\n",
      "Fetching matches for season_id 22 of competition_id 11...\n",
      "[================================] 100%\n",
      "Fetching matches for season_id 21 of competition_id 11...\n",
      "[==================================] 100%\n",
      "Fetching matches for season_id 41 of competition_id 11...\n",
      "[==============================] 100%\n",
      "Fetching matches for season_id 40 of competition_id 11...\n",
      "[===========================] 100%\n",
      "Fetching matches for season_id 39 of competition_id 11...\n",
      "[=========================] 100%\n",
      "Fetching matches for season_id 38 of competition_id 11...\n",
      "[================] 100%\n",
      "Fetching matches for season_id 37 of competition_id 11...\n",
      "[======] 100%\n",
      "\n",
      "Done\n"
     ]
    }
   ],
   "source": [
    "la_liga = sb.fetch_seasons_for_league(11)"
   ]
  },
  {
   "cell_type": "code",
   "execution_count": 9,
   "metadata": {},
   "outputs": [
    {
     "name": "stdout",
     "output_type": "stream",
     "text": [
      "Getting shots for 2018/2019\n",
      "Getting shots for 2017/2018\n",
      "Getting shots for 2016/2017\n",
      "Getting shots for 2015/2016\n",
      "Getting shots for 2014/2015\n",
      "Getting shots for 2013/2014\n",
      "Getting shots for 2012/2013\n",
      "Getting shots for 2011/2012\n",
      "Getting shots for 2010/2011\n",
      "Getting shots for 2009/2010\n",
      "Getting shots for 2008/2009\n",
      "Getting shots for 2007/2008\n",
      "Getting shots for 2006/2007\n",
      "Getting shots for 2005/2006\n",
      "Getting shots for 2004/2005\n",
      "Done.\n"
     ]
    }
   ],
   "source": [
    "la_liga_shots = sb.get_shots_for_league(la_liga)"
   ]
  },
  {
   "cell_type": "code",
   "execution_count": 12,
   "metadata": {},
   "outputs": [
    {
     "name": "stderr",
     "output_type": "stream",
     "text": [
      "/Users/robertblumberg/anaconda3/lib/python3.7/site-packages/pandas/core/indexing.py:671: SettingWithCopyWarning: \n",
      "A value is trying to be set on a copy of a slice from a DataFrame\n",
      "\n",
      "See the caveats in the documentation: https://pandas.pydata.org/pandas-docs/stable/user_guide/indexing.html#returning-a-view-versus-a-copy\n",
      "  self._setitem_with_indexer(indexer, value)\n"
     ]
    }
   ],
   "source": [
    "la_liga_shots[\"Distance\"] = np.sqrt((la_liga_shots[\"x start location\"] - 120)**2 + \\\n",
    "                                    (la_liga_shots[\"y start location\"] - 40)**2)\n",
    "goal_label_mask = la_liga_shots[\"outcome\"].str.contains(\"Goal\")\n",
    "la_liga_shots[\"outcome\"].loc[goal_label_mask] = 1\n",
    "la_liga_shots[\"outcome\"].loc[~goal_label_mask] = 0"
   ]
  },
  {
   "cell_type": "code",
   "execution_count": 47,
   "metadata": {},
   "outputs": [
    {
     "data": {
      "text/html": [
       "<div>\n",
       "<style scoped>\n",
       "    .dataframe tbody tr th:only-of-type {\n",
       "        vertical-align: middle;\n",
       "    }\n",
       "\n",
       "    .dataframe tbody tr th {\n",
       "        vertical-align: top;\n",
       "    }\n",
       "\n",
       "    .dataframe thead th {\n",
       "        text-align: right;\n",
       "    }\n",
       "</style>\n",
       "<table border=\"1\" class=\"dataframe\">\n",
       "  <thead>\n",
       "    <tr style=\"text-align: right;\">\n",
       "      <th></th>\n",
       "      <th>team_id</th>\n",
       "      <th>team_name</th>\n",
       "      <th>player_id</th>\n",
       "      <th>player_name</th>\n",
       "      <th>play pattern</th>\n",
       "      <th>x start location</th>\n",
       "      <th>y start location</th>\n",
       "      <th>duration</th>\n",
       "      <th>outcome</th>\n",
       "      <th>technique</th>\n",
       "      <th>first time</th>\n",
       "      <th>x gk position</th>\n",
       "      <th>y gk position</th>\n",
       "      <th>type of shot</th>\n",
       "      <th>num opponents within 5 yards</th>\n",
       "      <th>num opponents between shot and goal</th>\n",
       "      <th>statsbomb xg</th>\n",
       "      <th>game_id</th>\n",
       "      <th>season_id</th>\n",
       "      <th>Distance</th>\n",
       "    </tr>\n",
       "    <tr>\n",
       "      <th>shot id</th>\n",
       "      <th></th>\n",
       "      <th></th>\n",
       "      <th></th>\n",
       "      <th></th>\n",
       "      <th></th>\n",
       "      <th></th>\n",
       "      <th></th>\n",
       "      <th></th>\n",
       "      <th></th>\n",
       "      <th></th>\n",
       "      <th></th>\n",
       "      <th></th>\n",
       "      <th></th>\n",
       "      <th></th>\n",
       "      <th></th>\n",
       "      <th></th>\n",
       "      <th></th>\n",
       "      <th></th>\n",
       "      <th></th>\n",
       "      <th></th>\n",
       "    </tr>\n",
       "  </thead>\n",
       "  <tbody>\n",
       "    <tr>\n",
       "      <th>6c30cac4-6f3b-4cd0-9913-26137b058416</th>\n",
       "      <td>218</td>\n",
       "      <td>Real Betis</td>\n",
       "      <td>6658</td>\n",
       "      <td>Cristian Tello Herrera</td>\n",
       "      <td>From Throw In</td>\n",
       "      <td>101.0</td>\n",
       "      <td>22.0</td>\n",
       "      <td>1.179654</td>\n",
       "      <td>0</td>\n",
       "      <td>Normal</td>\n",
       "      <td>False</td>\n",
       "      <td>118.6</td>\n",
       "      <td>37.9</td>\n",
       "      <td>Open Play</td>\n",
       "      <td>2</td>\n",
       "      <td>2</td>\n",
       "      <td>0.020549</td>\n",
       "      <td>16215</td>\n",
       "      <td>2018/2019</td>\n",
       "      <td>26.172505</td>\n",
       "    </tr>\n",
       "    <tr>\n",
       "      <th>67cfa552-952c-4f72-a33a-0dd6af217a66</th>\n",
       "      <td>218</td>\n",
       "      <td>Real Betis</td>\n",
       "      <td>3990</td>\n",
       "      <td>Jesé Rodríguez Ruiz</td>\n",
       "      <td>From Throw In</td>\n",
       "      <td>113.7</td>\n",
       "      <td>39.9</td>\n",
       "      <td>1.226969</td>\n",
       "      <td>0</td>\n",
       "      <td>Volley</td>\n",
       "      <td>True</td>\n",
       "      <td>117.2</td>\n",
       "      <td>39.1</td>\n",
       "      <td>Open Play</td>\n",
       "      <td>1</td>\n",
       "      <td>0</td>\n",
       "      <td>0.363959</td>\n",
       "      <td>16215</td>\n",
       "      <td>2018/2019</td>\n",
       "      <td>6.300794</td>\n",
       "    </tr>\n",
       "    <tr>\n",
       "      <th>8c95e369-ec54-4a84-9d3e-51abb6f38e6e</th>\n",
       "      <td>217</td>\n",
       "      <td>Barcelona</td>\n",
       "      <td>5503</td>\n",
       "      <td>Lionel Andrés Messi Cuccittini</td>\n",
       "      <td>From Free Kick</td>\n",
       "      <td>95.6</td>\n",
       "      <td>44.4</td>\n",
       "      <td>1.046942</td>\n",
       "      <td>1</td>\n",
       "      <td>Normal</td>\n",
       "      <td>False</td>\n",
       "      <td>119.5</td>\n",
       "      <td>39.0</td>\n",
       "      <td>Free Kick</td>\n",
       "      <td>0</td>\n",
       "      <td>5</td>\n",
       "      <td>0.127337</td>\n",
       "      <td>16215</td>\n",
       "      <td>2018/2019</td>\n",
       "      <td>24.793548</td>\n",
       "    </tr>\n",
       "    <tr>\n",
       "      <th>2ae506b9-0601-460b-b91d-802296120161</th>\n",
       "      <td>217</td>\n",
       "      <td>Barcelona</td>\n",
       "      <td>5503</td>\n",
       "      <td>Lionel Andrés Messi Cuccittini</td>\n",
       "      <td>From Free Kick</td>\n",
       "      <td>94.0</td>\n",
       "      <td>46.1</td>\n",
       "      <td>1.375915</td>\n",
       "      <td>0</td>\n",
       "      <td>Normal</td>\n",
       "      <td>False</td>\n",
       "      <td>119.1</td>\n",
       "      <td>39.5</td>\n",
       "      <td>Free Kick</td>\n",
       "      <td>0</td>\n",
       "      <td>4</td>\n",
       "      <td>0.090603</td>\n",
       "      <td>16215</td>\n",
       "      <td>2018/2019</td>\n",
       "      <td>26.705992</td>\n",
       "    </tr>\n",
       "    <tr>\n",
       "      <th>10dc9818-a8d2-47f9-b219-9bc87d7b22e6</th>\n",
       "      <td>218</td>\n",
       "      <td>Real Betis</td>\n",
       "      <td>6658</td>\n",
       "      <td>Cristian Tello Herrera</td>\n",
       "      <td>From Free Kick</td>\n",
       "      <td>104.1</td>\n",
       "      <td>22.2</td>\n",
       "      <td>0.116586</td>\n",
       "      <td>0</td>\n",
       "      <td>Normal</td>\n",
       "      <td>False</td>\n",
       "      <td>118.4</td>\n",
       "      <td>37.4</td>\n",
       "      <td>Open Play</td>\n",
       "      <td>3</td>\n",
       "      <td>1</td>\n",
       "      <td>0.022751</td>\n",
       "      <td>16215</td>\n",
       "      <td>2018/2019</td>\n",
       "      <td>23.867342</td>\n",
       "    </tr>\n",
       "  </tbody>\n",
       "</table>\n",
       "</div>"
      ],
      "text/plain": [
       "                                      team_id   team_name  player_id  \\\n",
       "shot id                                                                \n",
       "6c30cac4-6f3b-4cd0-9913-26137b058416      218  Real Betis       6658   \n",
       "67cfa552-952c-4f72-a33a-0dd6af217a66      218  Real Betis       3990   \n",
       "8c95e369-ec54-4a84-9d3e-51abb6f38e6e      217   Barcelona       5503   \n",
       "2ae506b9-0601-460b-b91d-802296120161      217   Barcelona       5503   \n",
       "10dc9818-a8d2-47f9-b219-9bc87d7b22e6      218  Real Betis       6658   \n",
       "\n",
       "                                                         player_name  \\\n",
       "shot id                                                                \n",
       "6c30cac4-6f3b-4cd0-9913-26137b058416          Cristian Tello Herrera   \n",
       "67cfa552-952c-4f72-a33a-0dd6af217a66             Jesé Rodríguez Ruiz   \n",
       "8c95e369-ec54-4a84-9d3e-51abb6f38e6e  Lionel Andrés Messi Cuccittini   \n",
       "2ae506b9-0601-460b-b91d-802296120161  Lionel Andrés Messi Cuccittini   \n",
       "10dc9818-a8d2-47f9-b219-9bc87d7b22e6          Cristian Tello Herrera   \n",
       "\n",
       "                                        play pattern  x start location  \\\n",
       "shot id                                                                  \n",
       "6c30cac4-6f3b-4cd0-9913-26137b058416   From Throw In             101.0   \n",
       "67cfa552-952c-4f72-a33a-0dd6af217a66   From Throw In             113.7   \n",
       "8c95e369-ec54-4a84-9d3e-51abb6f38e6e  From Free Kick              95.6   \n",
       "2ae506b9-0601-460b-b91d-802296120161  From Free Kick              94.0   \n",
       "10dc9818-a8d2-47f9-b219-9bc87d7b22e6  From Free Kick             104.1   \n",
       "\n",
       "                                      y start location  duration outcome  \\\n",
       "shot id                                                                    \n",
       "6c30cac4-6f3b-4cd0-9913-26137b058416              22.0  1.179654       0   \n",
       "67cfa552-952c-4f72-a33a-0dd6af217a66              39.9  1.226969       0   \n",
       "8c95e369-ec54-4a84-9d3e-51abb6f38e6e              44.4  1.046942       1   \n",
       "2ae506b9-0601-460b-b91d-802296120161              46.1  1.375915       0   \n",
       "10dc9818-a8d2-47f9-b219-9bc87d7b22e6              22.2  0.116586       0   \n",
       "\n",
       "                                     technique  first time  x gk position  \\\n",
       "shot id                                                                     \n",
       "6c30cac4-6f3b-4cd0-9913-26137b058416    Normal       False          118.6   \n",
       "67cfa552-952c-4f72-a33a-0dd6af217a66    Volley        True          117.2   \n",
       "8c95e369-ec54-4a84-9d3e-51abb6f38e6e    Normal       False          119.5   \n",
       "2ae506b9-0601-460b-b91d-802296120161    Normal       False          119.1   \n",
       "10dc9818-a8d2-47f9-b219-9bc87d7b22e6    Normal       False          118.4   \n",
       "\n",
       "                                      y gk position type of shot  \\\n",
       "shot id                                                            \n",
       "6c30cac4-6f3b-4cd0-9913-26137b058416           37.9    Open Play   \n",
       "67cfa552-952c-4f72-a33a-0dd6af217a66           39.1    Open Play   \n",
       "8c95e369-ec54-4a84-9d3e-51abb6f38e6e           39.0    Free Kick   \n",
       "2ae506b9-0601-460b-b91d-802296120161           39.5    Free Kick   \n",
       "10dc9818-a8d2-47f9-b219-9bc87d7b22e6           37.4    Open Play   \n",
       "\n",
       "                                      num opponents within 5 yards  \\\n",
       "shot id                                                              \n",
       "6c30cac4-6f3b-4cd0-9913-26137b058416                             2   \n",
       "67cfa552-952c-4f72-a33a-0dd6af217a66                             1   \n",
       "8c95e369-ec54-4a84-9d3e-51abb6f38e6e                             0   \n",
       "2ae506b9-0601-460b-b91d-802296120161                             0   \n",
       "10dc9818-a8d2-47f9-b219-9bc87d7b22e6                             3   \n",
       "\n",
       "                                      num opponents between shot and goal  \\\n",
       "shot id                                                                     \n",
       "6c30cac4-6f3b-4cd0-9913-26137b058416                                    2   \n",
       "67cfa552-952c-4f72-a33a-0dd6af217a66                                    0   \n",
       "8c95e369-ec54-4a84-9d3e-51abb6f38e6e                                    5   \n",
       "2ae506b9-0601-460b-b91d-802296120161                                    4   \n",
       "10dc9818-a8d2-47f9-b219-9bc87d7b22e6                                    1   \n",
       "\n",
       "                                      statsbomb xg  game_id  season_id  \\\n",
       "shot id                                                                  \n",
       "6c30cac4-6f3b-4cd0-9913-26137b058416      0.020549    16215  2018/2019   \n",
       "67cfa552-952c-4f72-a33a-0dd6af217a66      0.363959    16215  2018/2019   \n",
       "8c95e369-ec54-4a84-9d3e-51abb6f38e6e      0.127337    16215  2018/2019   \n",
       "2ae506b9-0601-460b-b91d-802296120161      0.090603    16215  2018/2019   \n",
       "10dc9818-a8d2-47f9-b219-9bc87d7b22e6      0.022751    16215  2018/2019   \n",
       "\n",
       "                                       Distance  \n",
       "shot id                                          \n",
       "6c30cac4-6f3b-4cd0-9913-26137b058416  26.172505  \n",
       "67cfa552-952c-4f72-a33a-0dd6af217a66   6.300794  \n",
       "8c95e369-ec54-4a84-9d3e-51abb6f38e6e  24.793548  \n",
       "2ae506b9-0601-460b-b91d-802296120161  26.705992  \n",
       "10dc9818-a8d2-47f9-b219-9bc87d7b22e6  23.867342  "
      ]
     },
     "execution_count": 47,
     "metadata": {},
     "output_type": "execute_result"
    }
   ],
   "source": [
    "la_liga_shots.head(5)"
   ]
  },
  {
   "cell_type": "code",
   "execution_count": 405,
   "metadata": {},
   "outputs": [],
   "source": [
    "features= la_liga_shots.drop([\"outcome\"], axis=1)\n",
    "targets= la_liga_shots[\"outcome\"]\n",
    "\n",
    "X_train, X_test, y_train, y_test = train_test_split(features, targets, test_size=0.2)\n",
    "X_train, X_valid, y_train, y_valid = train_test_split(features.loc[X_train.index], targets[X_train.index], test_size=0.2)\n",
    "\n",
    "shot_training_set = pd.merge(X_train, y_train, left_index=True, right_index=True)\n",
    "shot_valid_set = pd.merge(X_valid, y_valid, left_index=True, right_index=True)\n",
    "shot_test_set = pd.merge(X_test, y_test, left_index=True, right_index=True)"
   ]
  },
  {
   "cell_type": "code",
   "execution_count": 406,
   "metadata": {},
   "outputs": [],
   "source": [
    "class AttrSelector(BaseEstimator, TransformerMixin):\n",
    "    \n",
    "    def __init__(self, attributes):\n",
    "        self.attributes = attributes\n",
    "   \n",
    "    def fit(self, attributes):\n",
    "        return self\n",
    "    \n",
    "    def transform(self, X):\n",
    "        return X[self.attributes]\n",
    "\n",
    "def full_preprocessing_pipeline(X_train, X_test, cat_features, num_features, fit=True):\n",
    "    \"\"\"\n",
    "    \"\"\"\n",
    "    \n",
    "    cat_attr_pipeline = Pipeline([\n",
    "        ('selector', AttrSelector(cat_features)),\n",
    "        ('one_hot_encoder',  OneHotEncoder())\n",
    "    ])\n",
    "    \n",
    "    num_attr_pipeline = Pipeline([\n",
    "        ('selector', AttrSelector(num_features)),\n",
    "       #('poly', PolynomialFeatures(2)), \n",
    "        ('std_scaler', StandardScaler())\n",
    "    ])\n",
    "    \n",
    "    combined_pipeline = ColumnTransformer(transformers=[('num', num_attr_pipeline, num_features),\n",
    "                                                        ('cat', cat_attr_pipeline, cat_features)])\n",
    "    \n",
    "    if fit:\n",
    "        X_train_preprocessed = combined_pipeline.fit_transform(X_train)\n",
    "        X_test_preprocessed = combined_pipeline.transform(X_test)\n",
    "    \n",
    "        return X_train_preprocessed, X_test_preprocessed, combined_pipeline\n",
    "    \n",
    "    return combined_pipeline"
   ]
  },
  {
   "cell_type": "code",
   "execution_count": 407,
   "metadata": {},
   "outputs": [],
   "source": [
    "cat_shot_attributes = [\"play pattern\", \"technique\", \"first time\"]\n",
    "num_shot_attributes = [\"x start location\", \"y start location\", \"x gk position\", \n",
    "                       \"y gk position\", \"num opponents within 5 yards\", \n",
    "                       \"num opponents between shot and goal\", \"Distance\"]\n",
    "\n",
    "X_train_prep, X_valid_prep, preprocessor = full_preprocessing_pipeline(X_train=shot_training_set,\n",
    "                                                                       X_test=shot_valid_set,\n",
    "                                                                       cat_features=cat_shot_attributes,\n",
    "                                                                       num_features=num_shot_attributes,\n",
    "                                                                       fit=True)"
   ]
  },
  {
   "cell_type": "code",
   "execution_count": 408,
   "metadata": {},
   "outputs": [],
   "source": [
    "cat_features_transformed = preprocessor.transformers[1][1]['one_hot_encoder'] \\\n",
    "                                       .fit(X_train[cat_shot_attributes], y_train) \\\n",
    "                                       .get_feature_names(cat_shot_attributes)\n",
    "\n",
    "all_features_transformed = list(num_shot_attributes) + list(cat_features_transformed)"
   ]
  },
  {
   "cell_type": "code",
   "execution_count": 409,
   "metadata": {},
   "outputs": [],
   "source": [
    "def hyperparameter_opt(classifier, hyprparam_dist, X_train, y_train, scoring=\"f1\", n_iter=10):\n",
    "    \"\"\"\n",
    "    Runs randomized hyperparameter search on preprocessed data for specified classifer.\n",
    "        \n",
    "    Arguments:\n",
    "    ----------\n",
    "    classifier : sklearn classifier object\n",
    "        - classifer we want to optimize\n",
    "    hyprparam_dist : dict or list of dicts\n",
    "        - dictionary with parameters names (string) as keys and distributions or \n",
    "        lists of hyperparameters to try\n",
    "    X_train : pandas.DataFrame\n",
    "        - preprocessed training features\n",
    "    y_train : pandas.Series\n",
    "        - training labels\n",
    "            \n",
    "    Returns:\n",
    "    --------\n",
    "    (pandas.DataFrame, dict)\n",
    "        - hyperparameter cross validation results, and dict with best hyperparameters\n",
    "    \"\"\" \n",
    "\n",
    "    print(\"Optimizing hyperparameters for {} model...\".format(type(classifier).__name__))\n",
    "    rs = RandomizedSearchCV(estimator=classifier, \n",
    "                            param_distributions=hyprparam_dist, \n",
    "                            cv=10, verbose=0, \n",
    "                            scoring=scoring, n_iter=n_iter)\n",
    "    \n",
    "    rs.fit(X_train, y_train)\n",
    "    print(\"Best hyperparameters {0}\".format(rs.best_params_))\n",
    "    print(\"Best cross validation score {0}\\n\".format(rs.best_score_))\n",
    "\n",
    "    return pd.DataFrame(rs.cv_results_), rs.best_estimator_"
   ]
  },
  {
   "cell_type": "code",
   "execution_count": 410,
   "metadata": {},
   "outputs": [
    {
     "name": "stdout",
     "output_type": "stream",
     "text": [
      "Optimizing hyperparameters for LogisticRegression model...\n",
      "Best hyperparameters {'C': 1590.4930144198404}\n",
      "Best cross validation score -0.3214776101189263\n",
      "\n"
     ]
    }
   ],
   "source": [
    "lr = LogisticRegression(max_iter=10000)\n",
    "cv_results, fitted_lr = hyperparameter_opt(classifier=lr, \n",
    "                                           hyprparam_dist=[{\"C\" : uniform(0, 20000)}], \n",
    "                                           X_train=X_train_prep, \n",
    "                                           y_train=y_train.astype(int),\n",
    "                                           scoring=\"neg_log_loss\",\n",
    "                                           n_iter=50)"
   ]
  },
  {
   "cell_type": "code",
   "execution_count": 411,
   "metadata": {},
   "outputs": [
    {
     "data": {
      "text/plain": [
       "array([-0.87693225,  0.10832701, -0.40143425, -0.01439687, -0.26892546,\n",
       "       -0.09487879, -2.03568582, -0.80546895, -0.09148253, -0.20838915,\n",
       "       -0.37987539, -0.97980222, -0.06840543, -0.41536553,  1.83747157,\n",
       "       -0.2600266 , -1.12872396,  0.20040483, -0.35058354,  0.52050658,\n",
       "        0.11572493, -0.44900569, -0.27966739, -0.91287116, -0.45847307])"
      ]
     },
     "execution_count": 411,
     "metadata": {},
     "output_type": "execute_result"
    }
   ],
   "source": [
    "fitted_lr.coef_[0]"
   ]
  },
  {
   "cell_type": "code",
   "execution_count": 432,
   "metadata": {},
   "outputs": [
    {
     "data": {
      "text/plain": [
       "0.3312087909375898"
      ]
     },
     "execution_count": 432,
     "metadata": {},
     "output_type": "execute_result"
    }
   ],
   "source": [
    "log_loss(shot_valid_set[\"outcome\"].astype(int), fitted_lr.predict_proba(X_valid_prep)[:, 1])"
   ]
  },
  {
   "cell_type": "code",
   "execution_count": 412,
   "metadata": {},
   "outputs": [],
   "source": [
    "lr_coefs = np.append(fitted_lr.intercept_, fitted_lr.coef_[0])"
   ]
  },
  {
   "cell_type": "code",
   "execution_count": 413,
   "metadata": {},
   "outputs": [],
   "source": [
    "training_set_player = shot_training_set.set_index([\"player_id\"]).sort_index()\n",
    "valid_set_player = shot_valid_set.set_index([\"player_id\"]).sort_index()\n",
    "X_train_player_prep, X_valid_player_prep, prprocesr = full_preprocessing_pipeline(X_train=training_set_player,\n",
    "                                                                                  X_test=valid_set_player,\n",
    "                                                                                  cat_features=cat_shot_attributes,\n",
    "                                                                                  num_features=num_shot_attributes,\n",
    "                                                                                  fit=True)\n",
    "nrow_t = X_train_player_prep.shape[0]\n",
    "nrow_v = X_valid_player_prep.shape[0]\n",
    "X_train_player_prep = np.append(np.ones((nrow_t, 1)), X_train_player_prep, axis=1)\n",
    "X_valid_player_prep = np.append(np.ones((nrow_v, 1)), X_valid_player_prep, axis=1)"
   ]
  },
  {
   "cell_type": "code",
   "execution_count": 414,
   "metadata": {},
   "outputs": [
    {
     "data": {
      "text/plain": [
       "array([0, 0, 0, ..., 0, 0, 0], dtype=object)"
      ]
     },
     "execution_count": 414,
     "metadata": {},
     "output_type": "execute_result"
    }
   ],
   "source": [
    "np.array(training_set_player[\"outcome\"])"
   ]
  },
  {
   "cell_type": "code",
   "execution_count": 415,
   "metadata": {},
   "outputs": [
    {
     "data": {
      "text/plain": [
       "932"
      ]
     },
     "execution_count": 415,
     "metadata": {},
     "output_type": "execute_result"
    }
   ],
   "source": [
    "training_set_player.index.unique().shape[0]"
   ]
  },
  {
   "cell_type": "code",
   "execution_count": 416,
   "metadata": {},
   "outputs": [
    {
     "data": {
      "text/plain": [
       "array([[ 1.        , -1.30123075,  0.77503826, ...,  0.        ,\n",
       "         1.        ,  0.        ],\n",
       "       [ 1.        , -0.90390136,  0.05266482, ...,  0.        ,\n",
       "         0.        ,  1.        ],\n",
       "       [ 1.        , -1.30123075, -1.7780076 , ...,  0.        ,\n",
       "         0.        ,  1.        ],\n",
       "       ...,\n",
       "       [ 1.        ,  1.03859786, -0.20461887, ...,  0.        ,\n",
       "         1.        ,  0.        ],\n",
       "       [ 1.        , -1.2018984 , -1.6691568 , ...,  0.        ,\n",
       "         1.        ,  0.        ],\n",
       "       [ 1.        ,  0.2880868 , -1.58999259, ...,  0.        ,\n",
       "         1.        ,  0.        ]])"
      ]
     },
     "execution_count": 416,
     "metadata": {},
     "output_type": "execute_result"
    }
   ],
   "source": [
    "X_train_player_prep"
   ]
  },
  {
   "cell_type": "code",
   "execution_count": 417,
   "metadata": {},
   "outputs": [],
   "source": [
    "jags_code = ''' \n",
    "model {\n",
    "  for (k in 1:M) {\n",
    "    a[k] ~ dnorm(coef[k], 1/0.001)\n",
    "  }\n",
    "  \n",
    "  for (i in 1:n_players) {\n",
    "    count[i] = sum(nshot_by_player[1:i])-nshot_by_player[i]\n",
    "    for (shot in 1:nshot_by_player[i]) {\n",
    "      p[sum(nshot_by_player[1:i])-nshot_by_player[i] + shot] = 1 / (1 + exp(-sum(a*X[sum(nshot_by_player[1:i])-nshot_by_player[i] + shot, ])))\n",
    "      y[sum(nshot_by_player[1:i])-nshot_by_player[i] + shot] ~ dbern(p[sum(nshot_by_player[1:i])-nshot_by_player[i] + shot])\n",
    "    }\n",
    "  }\n",
    "}'''"
   ]
  },
  {
   "cell_type": "code",
   "execution_count": 418,
   "metadata": {},
   "outputs": [],
   "source": [
    "jags_data = {\n",
    "    \"M\" : lr_coefs.shape[0],\n",
    "    \"coef\" : lr_coefs,\n",
    "    \"n_players\" : shot_counts_by_player.shape[0],\n",
    "    \"nshot_by_player\" : shot_counts_by_player.tolist(),\n",
    "    \"y\" : training_set_player[\"outcome\"].astype(int).tolist(),\n",
    "    \"X\" : X_train_player_prep\n",
    "}"
   ]
  },
  {
   "cell_type": "code",
   "execution_count": 419,
   "metadata": {},
   "outputs": [
    {
     "name": "stdout",
     "output_type": "stream",
     "text": [
      "adapting: iterations 5 of 100, elapsed 0:00:05, remaining 0:01:42\n",
      "adapting: iterations 9 of 100, elapsed 0:00:11, remaining 0:01:49\n",
      "adapting: iterations 17 of 100, elapsed 0:00:20, remaining 0:01:37\n",
      "adapting: iterations 25 of 100, elapsed 0:00:29, remaining 0:01:27\n",
      "adapting: iterations 33 of 100, elapsed 0:00:38, remaining 0:01:17\n",
      "adapting: iterations 41 of 100, elapsed 0:00:47, remaining 0:01:07\n",
      "adapting: iterations 49 of 100, elapsed 0:00:56, remaining 0:00:58\n",
      "adapting: iterations 57 of 100, elapsed 0:01:04, remaining 0:00:48\n",
      "adapting: iterations 65 of 100, elapsed 0:01:12, remaining 0:00:39\n",
      "adapting: iterations 73 of 100, elapsed 0:01:19, remaining 0:00:29\n",
      "adapting: iterations 81 of 100, elapsed 0:01:27, remaining 0:00:20\n",
      "adapting: iterations 89 of 100, elapsed 0:01:35, remaining 0:00:12\n",
      "adapting: iterations 97 of 100, elapsed 0:01:43, remaining 0:00:03\n",
      "adapting: iterations 100 of 100, elapsed 0:01:46, remaining 0:00:00\n"
     ]
    }
   ],
   "source": [
    "model = pjs.Model(code = jags_code, data = jags_data, chains = 1, adapt=100) "
   ]
  },
  {
   "cell_type": "code",
   "execution_count": 420,
   "metadata": {},
   "outputs": [
    {
     "name": "stdout",
     "output_type": "stream",
     "text": [
      "sampling: iterations 1 of 1, elapsed 0:00:01, remaining 0:00:00\n"
     ]
    }
   ],
   "source": [
    "samples = model.sample(1, vars=['p'], thin=1)"
   ]
  },
  {
   "cell_type": "code",
   "execution_count": 421,
   "metadata": {},
   "outputs": [
    {
     "data": {
      "text/plain": [
       "array([0.01715234, 0.03003776, 0.01063729, ..., 0.17740681, 0.00739781,\n",
       "       0.0304871 ])"
      ]
     },
     "execution_count": 421,
     "metadata": {},
     "output_type": "execute_result"
    }
   ],
   "source": [
    "samples['p'].flatten()"
   ]
  },
  {
   "cell_type": "code",
   "execution_count": 422,
   "metadata": {},
   "outputs": [
    {
     "data": {
      "text/plain": [
       "0.3170332159168761"
      ]
     },
     "execution_count": 422,
     "metadata": {},
     "output_type": "execute_result"
    }
   ],
   "source": [
    "log_loss(training_set_player[\"outcome\"].astype(int), samples['p'].flatten())"
   ]
  },
  {
   "cell_type": "code",
   "execution_count": 423,
   "metadata": {},
   "outputs": [
    {
     "data": {
      "text/plain": [
       "0.30005081492228775"
      ]
     },
     "execution_count": 423,
     "metadata": {},
     "output_type": "execute_result"
    }
   ],
   "source": [
    "log_loss(training_set_player[\"outcome\"].astype(int), training_set_player[\"statsbomb xg\"])"
   ]
  },
  {
   "cell_type": "code",
   "execution_count": null,
   "metadata": {},
   "outputs": [],
   "source": []
  }
 ],
 "metadata": {
  "kernelspec": {
   "display_name": "Python 3",
   "language": "python",
   "name": "python3"
  },
  "language_info": {
   "codemirror_mode": {
    "name": "ipython",
    "version": 3
   },
   "file_extension": ".py",
   "mimetype": "text/x-python",
   "name": "python",
   "nbconvert_exporter": "python",
   "pygments_lexer": "ipython3",
   "version": "3.7.6"
  }
 },
 "nbformat": 4,
 "nbformat_minor": 4
}
